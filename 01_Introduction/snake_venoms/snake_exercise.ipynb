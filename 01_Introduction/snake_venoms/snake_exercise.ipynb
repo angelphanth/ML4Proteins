{
 "cells": [
  {
   "cell_type": "markdown",
   "metadata": {},
   "source": [
    "# Snake venom classification exercise\n",
    "\n",
    "In this exercise, we are going to take a look at snake venoms :snake:. Because this is an educational course, we are first going\n",
    "to examine how we can use vsiualizations and basic machine learning libraries, such as scikit-learn to classify the snake venoms.\n",
    "Later we are going to use ProteusAI to greatly simplify the workflow and to add additional capabilities.\n",
    "\n",
    "We will use the UniProt database to fetch snake venom toxin sequences. We will use a custom query to select reviewed snake toxin entries.\n",
    "\n",
    "**UniProt Query**: `taxonomy_id:8570 AND ( cc_tissue_specificity:venom OR cc_scl_term:SL-0177) AND reviewed:true`\n",
    "\n",
    "We filtered the data, removing toxins that are hard to group into categories and assigned Function Classes based on the 'Function [CC]' column\n",
    "using OpenAIs GPT o1 model. This was done to create simple functional labels that we can more easily work with, instead of the lengthy function descriptions.\n",
    "\n",
    "Pandas is imported to load the data and Matplotlib is used to visualize it. Take a look at the data columns.\n",
    "\n"
   ]
  },
  {
   "cell_type": "code",
   "execution_count": null,
   "metadata": {},
   "outputs": [],
   "source": [
    "import pandas as pd\n",
    "\n",
    "df = pd.read_csv('Snake_Toxins_with_Function_Classes.csv')\n",
    "df"
   ]
  },
  {
   "cell_type": "markdown",
   "metadata": {},
   "source": [
    "## Visualizing protein sequences\n",
    "\n",
    "In machine learning data is represented numerically, frequently in the form of vectors. There are countless different choices to be made \n",
    "when representing proteins as vectors, which will be covered in detail in later lectures. Here we are going to start simply by encoding \n",
    "sequences as one-hot encoded vectors. This means, that we are going to assign each residue in the sequence with a vector, that is\n",
    "0 in every position except for a single 1. The position of the one will indicate which amino acid we are dealing with.\n",
    "\n",
    "For example, the amino acid Alanine (Ala, A) can be represented as having the 1 in the first position, while the amino acid\n",
    "Cystein (Cys, C) can be represented as having the 1 in the second position. Thus, we will communicate that the two amino acids\n",
    "are different entities. This method of encoding is known as One-Hot Encoding, or short OHE and commonly used to represent discrete\n",
    "sequences.\n",
    "\n",
    "Note, that the only information the machine learning algorithms will have when using this annotation is, that \n",
    "the amino acids are different. \n",
    "\n",
    "**Question** : What could be a problem when representing amino acids as:\n",
    "\n",
    "    1. A=1, C=2, D=3, ..., Y=20?\n",
    "    \n",
    "    2. Using OHE\n",
    "\n",
    "We will use numpy to encode the protein sequences as vectors"
   ]
  },
  {
   "cell_type": "code",
   "execution_count": null,
   "metadata": {},
   "outputs": [],
   "source": [
    "import numpy as np\n",
    "\n",
    "def one_hot_encode(seq):\n",
    "    # Dictionary of standard amino acids\n",
    "    amino_acids = 'ACDEFGHIKLMNPQRSTVWY'\n",
    "    aa_to_int = {aa: i for i, aa in enumerate(amino_acids)}\n",
    "\n",
    "    # Initialize the one-hot encoded matrix\n",
    "    one_hot = np.zeros((len(seq), len(amino_acids)), dtype=int)\n",
    "\n",
    "    # Fill the matrix\n",
    "    for i, aa in enumerate(seq):\n",
    "        if aa in aa_to_int:\n",
    "            one_hot[i, aa_to_int[aa]] = 1\n",
    "\n",
    "    return one_hot"
   ]
  },
  {
   "cell_type": "code",
   "execution_count": null,
   "metadata": {},
   "outputs": [],
   "source": [
    "import matplotlib.pyplot as plt\n",
    "import seaborn as sns\n",
    "\n",
    "def visualize_one_hot(encoded_seq, seq):\n",
    "    # Create a heatmap from the one-hot encoded matrix\n",
    "    plt.figure(figsize=(10, len(encoded_seq) / 2))\n",
    "    sns.heatmap(encoded_seq, annot=True, cbar=False, cmap='rocket',\n",
    "                xticklabels=list('ACDEFGHIKLMNPQRSTVWY'), yticklabels=list(seq))\n",
    "    plt.xlabel('Amino Acids')\n",
    "    plt.ylabel('Sequence Position')\n",
    "    plt.title('One-Hot Encoding of Amino Acid Sequence')\n",
    "    plt.savefig('one_hot_encoding.png')\n",
    "    plt.show()\n",
    "\n",
    "# Example usage\n",
    "seq = \"MLQVLLVTICLAVF\"\n",
    "encoded_seq = one_hot_encode(seq)\n",
    "visualize_one_hot(encoded_seq, seq)"
   ]
  },
  {
   "cell_type": "markdown",
   "metadata": {},
   "source": [
    "### Now let's encode the entire df\n",
    "\n",
    "In machine learning it is common to call the input x, thus we are encoding the sequences and give the column the name x.\n",
    "\n",
    "**Task 1**: \n",
    "\n",
    "Create a column 'x' in the dataframe to encode all protein sequences using one-hot encoding."
   ]
  },
  {
   "cell_type": "code",
   "execution_count": null,
   "metadata": {},
   "outputs": [],
   "source": []
  },
  {
   "cell_type": "markdown",
   "metadata": {},
   "source": [
    "## Encoding class labels\n",
    "\n",
    "Next we also need to encode the class labels. These are also going to be encoded using OHe, however, the library we are going to use expects train the classification model\n",
    "expects simple numbers as class labels and does the OHE under the hood. Because of this we are going to encode the classes as numbers. The output variable (class in this case), \n",
    "is often called y. Thus we are calling the encoded class labels y.\n",
    "\n",
    "**Task 2**: \n",
    "\n",
    "Create a column 'y' in the dataframe, assigning unique integer values to individual function classes:"
   ]
  },
  {
   "cell_type": "code",
   "execution_count": null,
   "metadata": {},
   "outputs": [],
   "source": []
  },
  {
   "cell_type": "markdown",
   "metadata": {},
   "source": [
    "## Training the classification model using scikit-learn\n",
    "\n",
    "Next, we are going to train machine learning models using scikit-learn to classify snake toxins based on.\n",
    "\n",
    "**Task 3**:\n",
    "\n",
    "    3.1 Load the dataset into variables X (features) and y (labels).\n",
    "    3.2 Explore the structure of X. Are all sequences in X the same size? If not, figure out how to handle this.\n",
    "    3.3 Divide the dataset into training and testing sets.\n",
    "    3.4 Pick a classifier from the following options:\n",
    "        a. Logistic Regression\n",
    "        b. Random Forest\n",
    "        c. Support Vector Machine\n",
    "    3.5 Make predictions\n",
    "    3.6 Evaluate the model with appropriate metrics and interpret the results\n",
    "    "
   ]
  },
  {
   "cell_type": "code",
   "execution_count": null,
   "metadata": {},
   "outputs": [],
   "source": []
  },
  {
   "cell_type": "markdown",
   "metadata": {},
   "source": [
    "## Visualizing results\n",
    "\n",
    "Now that we have trained the model we would like to visualize the results, which is an important step to communicate the capabilities of your model, but its also interesting for you to quickly see where your model performs better or worse. Visualize your results using a confusion matrix."
   ]
  },
  {
   "cell_type": "code",
   "execution_count": null,
   "metadata": {},
   "outputs": [],
   "source": []
  },
  {
   "cell_type": "markdown",
   "metadata": {},
   "source": [
    "# ProteusAI\n",
    "\n",
    "Now lets do the same thing with the library ´ProteusAI´ which automates a lot of the tideous steps and gets you from training to results in only a few lines of code."
   ]
  },
  {
   "cell_type": "code",
   "execution_count": null,
   "metadata": {},
   "outputs": [],
   "source": [
    "import proteusAI as pai"
   ]
  },
  {
   "cell_type": "code",
   "execution_count": null,
   "metadata": {},
   "outputs": [],
   "source": [
    "lib = pai.Library(\n",
    "    source=\"Snake_Toxins_with_Function_Classes.csv\",\n",
    "    names_col=\"Entry Name\",\n",
    "    seqs_col=\"Sequence\",\n",
    "    y_col=\"Function Class\",\n",
    "    y_type=\"class\"\n",
    ")"
   ]
  },
  {
   "cell_type": "code",
   "execution_count": null,
   "metadata": {},
   "outputs": [],
   "source": [
    "lib.compute(\"esm2_8M\", device=\"cpu\", batch_size=100)"
   ]
  },
  {
   "cell_type": "code",
   "execution_count": null,
   "metadata": {},
   "outputs": [],
   "source": [
    "fig, ax, df = lib.plot(method=\"tsne\", rep=\"esm2_8M\")\n",
    "\n",
    "plt.legend(loc='upper right', bbox_to_anchor=(1.2, 1.0))\n",
    "plt.savefig(\"tsne.png\")"
   ]
  },
  {
   "cell_type": "code",
   "execution_count": null,
   "metadata": {},
   "outputs": [],
   "source": [
    "fig, ax, df = lib.plot(method=\"tsne\", rep=\"esm2_8M\")\n",
    "\n",
    "plt.savefig(\"tsne.png\")\n",
    "plt.show()"
   ]
  },
  {
   "cell_type": "code",
   "execution_count": null,
   "metadata": {},
   "outputs": [],
   "source": [
    "model = pai.Model(\n",
    "    model_type=\"rf\", \n",
    "    library=lib,\n",
    "    x=\"esm2_8M\",\n",
    "    seed=42,\n",
    ")"
   ]
  },
  {
   "cell_type": "code",
   "execution_count": null,
   "metadata": {},
   "outputs": [],
   "source": [
    "model.train()"
   ]
  }
 ],
 "metadata": {
  "kernelspec": {
   "display_name": "proteusAI",
   "language": "python",
   "name": "python3"
  },
  "language_info": {
   "codemirror_mode": {
    "name": "ipython",
    "version": 3
   },
   "file_extension": ".py",
   "mimetype": "text/x-python",
   "name": "python",
   "nbconvert_exporter": "python",
   "pygments_lexer": "ipython3",
   "version": "3.8.20"
  }
 },
 "nbformat": 4,
 "nbformat_minor": 2
}
